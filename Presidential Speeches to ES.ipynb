{
 "cells": [
  {
   "cell_type": "code",
   "execution_count": 1,
   "metadata": {
    "collapsed": false
   },
   "outputs": [],
   "source": [
    "import bs4\n",
    "import json\n",
    "import requests\n",
    "from elasticsearch import Elasticsearch\n",
    "from elasticsearch_dsl import Search, Q\n",
    "es = Elasticsearch([{'host': 'localhost', 'port': 9200}])"
   ]
  },
  {
   "cell_type": "code",
   "execution_count": 2,
   "metadata": {
    "collapsed": false
   },
   "outputs": [
    {
     "data": {
      "text/plain": [
       "{u'acknowledged': True}"
      ]
     },
     "execution_count": 2,
     "metadata": {},
     "output_type": "execute_result"
    }
   ],
   "source": [
    "es.indices.delete(index='my_corp', ignore=[400, 404])"
   ]
  },
  {
   "cell_type": "code",
   "execution_count": 54,
   "metadata": {
    "collapsed": true
   },
   "outputs": [],
   "source": [
    "def getTrans(link):\n",
    "    page = requests.get(link)\n",
    "    soup = bs4.BeautifulSoup(page.text)\n",
    "    return soup.find('div',{'id':'transcript'}).findAll(text = True)\n",
    "    "
   ]
  },
  {
   "cell_type": "code",
   "execution_count": 55,
   "metadata": {
    "collapsed": true
   },
   "outputs": [],
   "source": [
    "def findnth(haystack, needle, n):\n",
    "    parts= haystack.split(needle, n+1)\n",
    "    if len(parts)<=n+1:\n",
    "        return -1\n",
    "    return len(haystack)-len(parts[-1])-len(needle)"
   ]
  },
  {
   "cell_type": "code",
   "execution_count": 56,
   "metadata": {
    "collapsed": false
   },
   "outputs": [],
   "source": [
    "def createJSON (link, text):\n",
    "    lnk = 'http://millercenter.org' + link\n",
    "    pres_id = link[findnth(link,'/',1)+1 : findnth(link,'/',2)]\n",
    "    speech_id = link[findnth(link,'/',3)+1 : len(link)]\n",
    "    ps = {}\n",
    "    ps['transcript'] = '' #getTrans(lnk)\n",
    "    ps['link'] = lnk\n",
    "    ps['title'] = text[0:text.find(\"(\")]\n",
    "    ps['pres_id'] = pres_id\n",
    "    ps['es_id'] = pres_id +'_'+ speech_id\n",
    "    ps['date'] = text[text.find(\"(\")+1:text.find(\")\")]\n",
    "    return ps\n"
   ]
  },
  {
   "cell_type": "code",
   "execution_count": 57,
   "metadata": {
    "collapsed": true
   },
   "outputs": [],
   "source": [
    "def writeFile (data):\n",
    "    with open('data.txt', 'a') as outfile:\n",
    "        json.dump(data, outfile)"
   ]
  },
  {
   "cell_type": "code",
   "execution_count": 59,
   "metadata": {
    "collapsed": false
   },
   "outputs": [],
   "source": [
    "page = requests.get('http://millercenter.org/president/speeches')\n",
    "#print page.text\n",
    "soup = bs4.BeautifulSoup(page.text)\n",
    "#links = soup.select('div.entry a[href^=/president]')\n",
    "links = soup.select('div.title a[href^=/president]')\n",
    "#print len(links)\n",
    "for link in links:\n",
    "    print link.attrs['href']\n",
    "    ps = createJSON(link.attrs['href'],link.text)\n",
    "    #writeFile(ps)  #test first before overwriting this file"
   ]
  },
  {
   "cell_type": "code",
   "execution_count": 66,
   "metadata": {
    "collapsed": false
   },
   "outputs": [
    {
     "name": "stdout",
     "output_type": "stream",
     "text": [
      "done\n"
     ]
    }
   ],
   "source": [
    "import json\n",
    "\n",
    "with open('data.txt') as data_file:    \n",
    "    data = json.load(data_file)\n",
    "\n",
    "for link in data['data']:\n",
    "    link['transcript'] = getTrans(link['link'])\n",
    "    es.index(index='presidential', doc_type='speeches', id=link['es_id'], body = link)\n",
    "    \n",
    "print 'done'"
   ]
  }
 ],
 "metadata": {
  "kernelspec": {
   "display_name": "Python 2",
   "language": "python",
   "name": "python2"
  },
  "language_info": {
   "codemirror_mode": {
    "name": "ipython",
    "version": 2
   },
   "file_extension": ".py",
   "mimetype": "text/x-python",
   "name": "python",
   "nbconvert_exporter": "python",
   "pygments_lexer": "ipython2",
   "version": "2.7.10"
  }
 },
 "nbformat": 4,
 "nbformat_minor": 0
}
