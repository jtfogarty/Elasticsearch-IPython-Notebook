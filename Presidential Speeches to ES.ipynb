{
 "cells": [
  {
   "cell_type": "code",
   "execution_count": 58,
   "metadata": {
    "collapsed": false
   },
   "outputs": [],
   "source": [
    "import bs4\n",
    "import requests\n",
    "from elasticsearch import Elasticsearch\n",
    "from elasticsearch_dsl import Search, Q\n",
    "es = Elasticsearch([{'host': 'localhost', 'port': 9200}])"
   ]
  },
  {
   "cell_type": "code",
   "execution_count": 9,
   "metadata": {
    "collapsed": true
   },
   "outputs": [],
   "source": [
    "def getTrans(link):\n",
    "    page = requests.get(link)\n",
    "    soup = bs4.BeautifulSoup(page.text)\n",
    "    return soup.find('div',{'id':'transcript'}).findAll(text = True)\n",
    "    "
   ]
  },
  {
   "cell_type": "code",
   "execution_count": 10,
   "metadata": {
    "collapsed": true
   },
   "outputs": [],
   "source": [
    "def findnth(haystack, needle, n):\n",
    "    parts= haystack.split(needle, n+1)\n",
    "    if len(parts)<=n+1:\n",
    "        return -1\n",
    "    return len(haystack)-len(parts[-1])-len(needle)"
   ]
  },
  {
   "cell_type": "code",
   "execution_count": 23,
   "metadata": {
    "collapsed": false
   },
   "outputs": [],
   "source": [
    "def createJSON (link, text):\n",
    "    lnk = 'http://millercenter.org' + link\n",
    "    pres_id = link[findnth(link,'/',1)+1 : findnth(link,'/',2)]\n",
    "    speech_id = link[findnth(link,'/',3)+1 : len(link)]\n",
    "    ps = {}\n",
    "    ps['transcript'] = getTrans(lnk)\n",
    "    ps['link'] = lnk\n",
    "    ps['title'] = text[0:text.find(\"(\")]\n",
    "    ps['pres_id'] = pres_id\n",
    "    ps['es_id'] = pres_id +'_'+ speech_id\n",
    "    ps['date'] = text[text.find(\"(\")+1:text.find(\")\")]\n",
    "    return ps\n"
   ]
  },
  {
   "cell_type": "code",
   "execution_count": 24,
   "metadata": {
    "collapsed": false
   },
   "outputs": [],
   "source": [
    "page = requests.get('http://millercenter.org/president/speeches')\n",
    "soup = bs4.BeautifulSoup(page.text)\n",
    "links = soup.select('div.title a[href^=/president]')\n",
    "#print links\n",
    "for link in links:\n",
    "    ps = createJSON(link.attrs['href'],link.text)\n",
    "    es.index(index='president', doc_type='speeches', id=ps['es_id'], body = ps) "
   ]
  },
  {
   "cell_type": "code",
   "execution_count": 28,
   "metadata": {
    "collapsed": false
   },
   "outputs": [],
   "source": [
    "#es.get(index='president', doc_type='speeches', id='clinton_speech-4597')"
   ]
  },
  {
   "cell_type": "code",
   "execution_count": 29,
   "metadata": {
    "collapsed": false
   },
   "outputs": [
    {
     "data": {
      "text/plain": [
       "{u'_shards': {u'failed': 0, u'successful': 5, u'total': 5}, u'count': 894}"
      ]
     },
     "execution_count": 29,
     "metadata": {},
     "output_type": "execute_result"
    }
   ],
   "source": [
    "es.count(index='president', doc_type='speeches')"
   ]
  },
  {
   "cell_type": "markdown",
   "metadata": {},
   "source": [
    "## The below does not user the dls approach "
   ]
  },
  {
   "cell_type": "code",
   "execution_count": 62,
   "metadata": {
    "collapsed": false
   },
   "outputs": [
    {
     "data": {
      "text/plain": [
       "{u'_shards': {u'failed': 0, u'successful': 5, u'total': 5},\n",
       " u'aggregations': {u'president': {u'buckets': [{u'doc_count': 71,\n",
       "     u'key': u'lbjohnson'},\n",
       "    {u'doc_count': 59, u'key': u'reagan'},\n",
       "    {u'doc_count': 49, u'key': u'fdroosevelt'},\n",
       "    {u'doc_count': 45, u'key': u'kennedy'},\n",
       "    {u'doc_count': 39, u'key': u'clinton'},\n",
       "    {u'doc_count': 32, u'key': u'grant'},\n",
       "    {u'doc_count': 32, u'key': u'wilson'},\n",
       "    {u'doc_count': 31, u'key': u'johnson'},\n",
       "    {u'doc_count': 30, u'key': u'cleveland'},\n",
       "    {u'doc_count': 29, u'key': u'hoover'}],\n",
       "   u'doc_count_error_upper_bound': 0,\n",
       "   u'sum_other_doc_count': 477}},\n",
       " u'hits': {u'hits': [], u'max_score': 0.0, u'total': 894},\n",
       " u'timed_out': False,\n",
       " u'took': 1}"
      ]
     },
     "execution_count": 62,
     "metadata": {},
     "output_type": "execute_result"
    }
   ],
   "source": [
    "agg_json = '{\"size\":0,\"aggregations\": {\"president\":{\"terms\":{\"field\": \"pres_id\"}}}}'\n",
    "es.search(index='president', doc_type='speeches', body = agg_json)\n",
    "#\"size\":0,\n",
    "#print response\n",
    "#for item in response:\n",
    "#    print item\n",
    "    \n",
    "#for tag in response['aggregations']['president']['buckets']:\n",
    "#    print(tag['key'], tag['doc_count']['value'])"
   ]
  },
  {
   "cell_type": "code",
   "execution_count": 66,
   "metadata": {
    "collapsed": false
   },
   "outputs": [
    {
     "name": "stdout",
     "output_type": "stream",
     "text": [
      "<Response: [<Result(president/speeches/clinton_speech-4597): {u'title': u'Remarks at the Democratic National Convention '...}>, <Result(president/speeches/clinton_speech-5494): {u'title': u'State of the Union Address ', u'pres_id': u'cli...}>, <Result(president/speeches/clinton_speech-4566): {u'title': u'Address on Somalia ', u'pres_id': u'clinton', u...}>, <Result(president/speeches/clinton_speech-3436): {u'title': u'Remarks to the Convocation of the Church of God...}>, <Result(president/speeches/gwbush_speech-4542): {u'title': u'State of the Union Address ', u'pres_id': u'gwb...}>, <Result(president/speeches/clinton_speech-3929): {u'title': u'Address on Bosnia ', u'pres_id': u'clinton', u'...}>, <Result(president/speeches/gwbush_speech-3645): {u'title': u'First Inaugural Address ', u'pres_id': u'gwbush...}>, <Result(president/speeches/gwbush_speech-3986): {u'title': u'Remarks on Signing the Economic Growth and Tax ...}>, <Result(president/speeches/clinton_speech-3443): {u'title': u'Second Inaugural ', u'pres_id': u'clinton', u'l...}>, <Result(president/speeches/clinton_speech-4561): {u'title': u'Press Conference on \"Gays in the Military\" ', u...}>]>\n"
     ]
    }
   ],
   "source": [
    "s = Search(using=es, index=\"president\",doc_type=\"speeches\")\n",
    "    \n",
    "s.aggs.bucket('president', 'terms', field='pres_id') \n",
    "\n",
    "response = s.execute()\n",
    "\n",
    "print response\n",
    "#for hit in response['hits']['hits']:\n",
    "#    print(hit['_score'], hit['_source']['pres_id'])"
   ]
  },
  {
   "cell_type": "code",
   "execution_count": null,
   "metadata": {
    "collapsed": true
   },
   "outputs": [],
   "source": []
  }
 ],
 "metadata": {
  "kernelspec": {
   "display_name": "Python 2",
   "language": "python",
   "name": "python2"
  },
  "language_info": {
   "codemirror_mode": {
    "name": "ipython",
    "version": 2
   },
   "file_extension": ".py",
   "mimetype": "text/x-python",
   "name": "python",
   "nbconvert_exporter": "python",
   "pygments_lexer": "ipython2",
   "version": "2.7.9"
  }
 },
 "nbformat": 4,
 "nbformat_minor": 0
}
