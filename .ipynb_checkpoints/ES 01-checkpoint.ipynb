{
 "cells": [
  {
   "cell_type": "code",
   "execution_count": 1,
   "metadata": {
    "collapsed": false
   },
   "outputs": [
    {
     "name": "stdout",
     "output_type": "stream",
     "text": [
      "\u001b[34mHTTP\u001b[39;49;00m/\u001b[39;49;00m\u001b[34m1.1\u001b[39;49;00m \u001b[39;49;00m\u001b[34m200\u001b[39;49;00m \u001b[39;49;00m\u001b[36mOK\u001b[39;49;00m\n",
      "\u001b[36mContent-Length\u001b[39;49;00m:\u001b[39;49;00m \u001b[39;49;00m\u001b[33m342\u001b[39;49;00m\n",
      "\u001b[36mContent-Type\u001b[39;49;00m:\u001b[39;49;00m \u001b[39;49;00m\u001b[33mapplication/json; charset=UTF-8\u001b[39;49;00m\n",
      "\n",
      "{\u001b[39;49;00m\n",
      "    \u001b[39;49;00m\u001b[34;01m\"cluster_name\"\u001b[39;49;00m:\u001b[39;49;00m \u001b[39;49;00m\u001b[33m\"elasticsearch_Jeff\"\u001b[39;49;00m,\u001b[39;49;00m \u001b[39;49;00m\n",
      "    \u001b[39;49;00m\u001b[34;01m\"name\"\u001b[39;49;00m:\u001b[39;49;00m \u001b[39;49;00m\u001b[33m\"Powderkeg\"\u001b[39;49;00m,\u001b[39;49;00m \u001b[39;49;00m\n",
      "    \u001b[39;49;00m\u001b[34;01m\"status\"\u001b[39;49;00m:\u001b[39;49;00m \u001b[39;49;00m\u001b[34m200\u001b[39;49;00m,\u001b[39;49;00m \u001b[39;49;00m\n",
      "    \u001b[39;49;00m\u001b[34;01m\"tagline\"\u001b[39;49;00m:\u001b[39;49;00m \u001b[39;49;00m\u001b[33m\"You Know, for Search\"\u001b[39;49;00m,\u001b[39;49;00m \u001b[39;49;00m\n",
      "    \u001b[39;49;00m\u001b[34;01m\"version\"\u001b[39;49;00m:\u001b[39;49;00m \u001b[39;49;00m{\u001b[39;49;00m\n",
      "        \u001b[39;49;00m\u001b[34;01m\"build_hash\"\u001b[39;49;00m:\u001b[39;49;00m \u001b[39;49;00m\u001b[33m\"c88f77ffc81301dfa9dfd81ca2232f09588bd512\"\u001b[39;49;00m,\u001b[39;49;00m \u001b[39;49;00m\n",
      "        \u001b[39;49;00m\u001b[34;01m\"build_snapshot\"\u001b[39;49;00m:\u001b[39;49;00m \u001b[39;49;00m\u001b[34mfalse\u001b[39;49;00m,\u001b[39;49;00m \u001b[39;49;00m\n",
      "        \u001b[39;49;00m\u001b[34;01m\"build_timestamp\"\u001b[39;49;00m:\u001b[39;49;00m \u001b[39;49;00m\u001b[33m\"2015-02-19T13:05:36Z\"\u001b[39;49;00m,\u001b[39;49;00m \u001b[39;49;00m\n",
      "        \u001b[39;49;00m\u001b[34;01m\"lucene_version\"\u001b[39;49;00m:\u001b[39;49;00m \u001b[39;49;00m\u001b[33m\"4.10.3\"\u001b[39;49;00m,\u001b[39;49;00m \u001b[39;49;00m\n",
      "        \u001b[39;49;00m\u001b[34;01m\"number\"\u001b[39;49;00m:\u001b[39;49;00m \u001b[39;49;00m\u001b[33m\"1.4.4\"\u001b[39;49;00m\n",
      "    \u001b[39;49;00m}\u001b[39;49;00m\n",
      "}\u001b[39;49;00m\n",
      "\n"
     ]
    }
   ],
   "source": [
    "! http get \"localhost:9200\""
   ]
  },
  {
   "cell_type": "code",
   "execution_count": 6,
   "metadata": {
    "collapsed": false
   },
   "outputs": [],
   "source": [
    "! http get localhost:9200/president/speeches/_search?q=pres_id:gwbush&pretty&size=1"
   ]
  },
  {
   "cell_type": "code",
   "execution_count": 5,
   "metadata": {
    "collapsed": false
   },
   "outputs": [
    {
     "name": "stdout",
     "output_type": "stream",
     "text": [
      "\u001b[34mHTTP\u001b[39;49;00m/\u001b[39;49;00m\u001b[34m1.1\u001b[39;49;00m \u001b[39;49;00m\u001b[34m200\u001b[39;49;00m \u001b[39;49;00m\u001b[36mOK\u001b[39;49;00m\n",
      "\u001b[36mContent-Length\u001b[39;49;00m:\u001b[39;49;00m \u001b[39;49;00m\u001b[33m285\u001b[39;49;00m\n",
      "\u001b[36mContent-Type\u001b[39;49;00m:\u001b[39;49;00m \u001b[39;49;00m\u001b[33mapplication/json; charset=UTF-8\u001b[39;49;00m\n",
      "\n",
      "{\u001b[39;49;00m\n",
      "    \u001b[39;49;00m\u001b[34;01m\"active_primary_shards\"\u001b[39;49;00m:\u001b[39;49;00m \u001b[39;49;00m\u001b[34m70\u001b[39;49;00m,\u001b[39;49;00m \u001b[39;49;00m\n",
      "    \u001b[39;49;00m\u001b[34;01m\"active_shards\"\u001b[39;49;00m:\u001b[39;49;00m \u001b[39;49;00m\u001b[34m70\u001b[39;49;00m,\u001b[39;49;00m \u001b[39;49;00m\n",
      "    \u001b[39;49;00m\u001b[34;01m\"cluster_name\"\u001b[39;49;00m:\u001b[39;49;00m \u001b[39;49;00m\u001b[33m\"elasticsearch_Jeff\"\u001b[39;49;00m,\u001b[39;49;00m \u001b[39;49;00m\n",
      "    \u001b[39;49;00m\u001b[34;01m\"initializing_shards\"\u001b[39;49;00m:\u001b[39;49;00m \u001b[39;49;00m\u001b[34m0\u001b[39;49;00m,\u001b[39;49;00m \u001b[39;49;00m\n",
      "    \u001b[39;49;00m\u001b[34;01m\"number_of_data_nodes\"\u001b[39;49;00m:\u001b[39;49;00m \u001b[39;49;00m\u001b[34m1\u001b[39;49;00m,\u001b[39;49;00m \u001b[39;49;00m\n",
      "    \u001b[39;49;00m\u001b[34;01m\"number_of_nodes\"\u001b[39;49;00m:\u001b[39;49;00m \u001b[39;49;00m\u001b[34m1\u001b[39;49;00m,\u001b[39;49;00m \u001b[39;49;00m\n",
      "    \u001b[39;49;00m\u001b[34;01m\"relocating_shards\"\u001b[39;49;00m:\u001b[39;49;00m \u001b[39;49;00m\u001b[34m0\u001b[39;49;00m,\u001b[39;49;00m \u001b[39;49;00m\n",
      "    \u001b[39;49;00m\u001b[34;01m\"status\"\u001b[39;49;00m:\u001b[39;49;00m \u001b[39;49;00m\u001b[33m\"yellow\"\u001b[39;49;00m,\u001b[39;49;00m \u001b[39;49;00m\n",
      "    \u001b[39;49;00m\u001b[34;01m\"timed_out\"\u001b[39;49;00m:\u001b[39;49;00m \u001b[39;49;00m\u001b[34mfalse\u001b[39;49;00m,\u001b[39;49;00m \u001b[39;49;00m\n",
      "    \u001b[39;49;00m\u001b[34;01m\"unassigned_shards\"\u001b[39;49;00m:\u001b[39;49;00m \u001b[39;49;00m\u001b[34m70\u001b[39;49;00m\n",
      "}\u001b[39;49;00m\n",
      "\n"
     ]
    }
   ],
   "source": [
    "! http get localhost:9200/_cluster/health?pretty"
   ]
  },
  {
   "cell_type": "code",
   "execution_count": null,
   "metadata": {
    "collapsed": true
   },
   "outputs": [],
   "source": []
  }
 ],
 "metadata": {
  "kernelspec": {
   "display_name": "Python 2",
   "language": "python",
   "name": "python2"
  },
  "language_info": {
   "codemirror_mode": {
    "name": "ipython",
    "version": 2
   },
   "file_extension": ".py",
   "mimetype": "text/x-python",
   "name": "python",
   "nbconvert_exporter": "python",
   "pygments_lexer": "ipython2",
   "version": "2.7.9"
  }
 },
 "nbformat": 4,
 "nbformat_minor": 0
}
