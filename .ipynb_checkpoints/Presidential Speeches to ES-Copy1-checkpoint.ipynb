{
 "cells": [
  {
   "cell_type": "code",
   "execution_count": 5,
   "metadata": {
    "collapsed": false
   },
   "outputs": [],
   "source": [
    "import bs4\n",
    "import json\n",
    "import requests\n",
    "from elasticsearch import Elasticsearch\n",
    "from elasticsearch_dsl import Search, Q\n",
    "es = Elasticsearch([{'host': 'localhost', 'port': 9200}])"
   ]
  },
  {
   "cell_type": "code",
   "execution_count": 8,
   "metadata": {
    "collapsed": true
   },
   "outputs": [],
   "source": [
    "def getTrans(link):\n",
    "    page = requests.get(link)\n",
    "    soup = bs4.BeautifulSoup(page.text)\n",
    "    return soup.find('div',{'id':'transcript'}).findAll(text = True)\n",
    "    "
   ]
  },
  {
   "cell_type": "code",
   "execution_count": 9,
   "metadata": {
    "collapsed": true
   },
   "outputs": [],
   "source": [
    "def findnth(haystack, needle, n):\n",
    "    parts= haystack.split(needle, n+1)\n",
    "    if len(parts)<=n+1:\n",
    "        return -1\n",
    "    return len(haystack)-len(parts[-1])-len(needle)"
   ]
  },
  {
   "cell_type": "code",
   "execution_count": 10,
   "metadata": {
    "collapsed": false
   },
   "outputs": [],
   "source": [
    "def createJSON (link, text):\n",
    "    lnk = 'http://millercenter.org' + link\n",
    "    pres_id = link[findnth(link,'/',1)+1 : findnth(link,'/',2)]\n",
    "    speech_id = link[findnth(link,'/',3)+1 : len(link)]\n",
    "    ps = {}\n",
    "    ps['transcript'] = getTrans(lnk)\n",
    "    ps['link'] = lnk\n",
    "    ps['title'] = text[0:text.find(\"(\")]\n",
    "    ps['pres_id'] = pres_id\n",
    "    ps['es_id'] = pres_id +'_'+ speech_id\n",
    "    ps['date'] = text[text.find(\"(\")+1:text.find(\")\")]\n",
    "    return ps\n"
   ]
  },
  {
   "cell_type": "code",
   "execution_count": 11,
   "metadata": {
    "collapsed": false
   },
   "outputs": [],
   "source": [
    "page = requests.get('http://millercenter.org/president/speeches')\n",
    "soup = bs4.BeautifulSoup(page.text)\n",
    "links = soup.select('div.title a[href^=/president]')\n",
    "#print links\n",
    "for link in links:\n",
    "    ps = createJSON(link.attrs['href'],link.text)\n",
    "    es.index(index='pres', doc_type='speeches', id=ps['es_id'], body = ps) "
   ]
  },
  {
   "cell_type": "code",
   "execution_count": 28,
   "metadata": {
    "collapsed": false
   },
   "outputs": [],
   "source": [
    "#es.get(index='president', doc_type='speeches', id='clinton_speech-4597')"
   ]
  },
  {
   "cell_type": "code",
   "execution_count": 14,
   "metadata": {
    "collapsed": false
   },
   "outputs": [
    {
     "name": "stdout",
     "output_type": "stream",
     "text": [
      "{\n",
      "  \"count\": 894, \n",
      "  \"_shards\": {\n",
      "    \"successful\": 5, \n",
      "    \"failed\": 0, \n",
      "    \"total\": 5\n",
      "  }\n",
      "}\n"
     ]
    }
   ],
   "source": [
    "res = es.count(index='president', doc_type='speeches')\n",
    "print(json.dumps(res,indent = 2))"
   ]
  },
  {
   "cell_type": "markdown",
   "metadata": {},
   "source": [
    "## The below does not use the dls approach "
   ]
  },
  {
   "cell_type": "code",
   "execution_count": 3,
   "metadata": {
    "collapsed": false
   },
   "outputs": [
    {
     "data": {
      "text/plain": [
       "{u'_shards': {u'failed': 0, u'successful': 5, u'total': 5},\n",
       " u'aggregations': {u'president': {u'buckets': [{u'doc_count': 71,\n",
       "     u'key': u'lbjohnson'},\n",
       "    {u'doc_count': 59, u'key': u'reagan'},\n",
       "    {u'doc_count': 49, u'key': u'fdroosevelt'},\n",
       "    {u'doc_count': 45, u'key': u'kennedy'},\n",
       "    {u'doc_count': 39, u'key': u'clinton'},\n",
       "    {u'doc_count': 32, u'key': u'grant'},\n",
       "    {u'doc_count': 32, u'key': u'wilson'},\n",
       "    {u'doc_count': 31, u'key': u'johnson'},\n",
       "    {u'doc_count': 30, u'key': u'cleveland'},\n",
       "    {u'doc_count': 29, u'key': u'hoover'},\n",
       "    {u'doc_count': 26, u'key': u'jackson'},\n",
       "    {u'doc_count': 25, u'key': u'polk'},\n",
       "    {u'doc_count': 24, u'key': u'jefferson'},\n",
       "    {u'doc_count': 23, u'key': u'bush'},\n",
       "    {u'doc_count': 23, u'key': u'nixon'},\n",
       "    {u'doc_count': 22, u'key': u'carter'},\n",
       "    {u'doc_count': 22, u'key': u'madison'},\n",
       "    {u'doc_count': 22, u'key': u'roosevelt'},\n",
       "    {u'doc_count': 21, u'key': u'washington'},\n",
       "    {u'doc_count': 19, u'key': u'truman'},\n",
       "    {u'doc_count': 18, u'key': u'harding'},\n",
       "    {u'doc_count': 18, u'key': u'tyler'},\n",
       "    {u'doc_count': 16, u'key': u'bharrison'},\n",
       "    {u'doc_count': 16, u'key': u'hayes'},\n",
       "    {u'doc_count': 15, u'key': u'lincoln'},\n",
       "    {u'doc_count': 15, u'key': u'pierce'},\n",
       "    {u'doc_count': 14, u'key': u'buchanan'},\n",
       "    {u'doc_count': 14, u'key': u'ford'},\n",
       "    {u'doc_count': 14, u'key': u'mckinley'},\n",
       "    {u'doc_count': 12, u'key': u'arthur'},\n",
       "    {u'doc_count': 12, u'key': u'coolidge'},\n",
       "    {u'doc_count': 12, u'key': u'gwbush'},\n",
       "    {u'doc_count': 11, u'key': u'taft'},\n",
       "    {u'doc_count': 10, u'key': u'monroe'},\n",
       "    {u'doc_count': 10, u'key': u'vanburen'},\n",
       "    {u'doc_count': 9, u'key': u'adams'},\n",
       "    {u'doc_count': 8, u'key': u'jqadams'},\n",
       "    {u'doc_count': 7, u'key': u'fillmore'},\n",
       "    {u'doc_count': 7, u'key': u'obama'},\n",
       "    {u'doc_count': 6, u'key': u'eisenhower'},\n",
       "    {u'doc_count': 4, u'key': u'taylor'},\n",
       "    {u'doc_count': 1, u'key': u'garfield'},\n",
       "    {u'doc_count': 1, u'key': u'harrison'}],\n",
       "   u'doc_count_error_upper_bound': 0,\n",
       "   u'sum_other_doc_count': 0}},\n",
       " u'hits': {u'hits': [], u'max_score': 0.0, u'total': 894},\n",
       " u'timed_out': False,\n",
       " u'took': 3}"
      ]
     },
     "execution_count": 3,
     "metadata": {},
     "output_type": "execute_result"
    }
   ],
   "source": [
    "agg_json = '{\"size\":0,\"aggregations\": {\"president\":{\"terms\":{\"field\": \"pres_id\",\"size\": 50}}}}'\n",
    "es.search(index='president', doc_type='speeches', body = agg_json)\n",
    "#\"size\":0,\n",
    "#print response\n",
    "#for item in response:\n",
    "#    print item\n",
    "    \n",
    "#for tag in response['aggregations']['president']['buckets']:\n",
    "#    print(tag['key'], tag['doc_count']['value'])"
   ]
  },
  {
   "cell_type": "code",
   "execution_count": 11,
   "metadata": {
    "collapsed": false
   },
   "outputs": [
    {
     "ename": "TypeError",
     "evalue": "termvector() takes at least 4 arguments (5 given)",
     "output_type": "error",
     "traceback": [
      "\u001b[0;31m---------------------------------------------------------------------------\u001b[0m",
      "\u001b[0;31mTypeError\u001b[0m                                 Traceback (most recent call last)",
      "\u001b[0;32m<ipython-input-11-a6ee1083fb43>\u001b[0m in \u001b[0;36m<module>\u001b[0;34m()\u001b[0m\n\u001b[1;32m      1\u001b[0m \u001b[0mterms_json\u001b[0m \u001b[0;34m=\u001b[0m \u001b[0;34m'{  \"fields\" : [\"transcript\", \"some_field_without_term_vectors\"],  \"offsets\" : true,  \"positions\" : true,  \"term_statistics\" : true,  \"field_statistics\" : true}'\u001b[0m\u001b[0;34m\u001b[0m\u001b[0m\n\u001b[0;32m----> 2\u001b[0;31m \u001b[0mes\u001b[0m\u001b[0;34m.\u001b[0m\u001b[0mtermvector\u001b[0m\u001b[0;34m(\u001b[0m\u001b[0mindex\u001b[0m\u001b[0;34m=\u001b[0m\u001b[0;34m'president'\u001b[0m\u001b[0;34m,\u001b[0m \u001b[0mdoc_type\u001b[0m\u001b[0;34m=\u001b[0m\u001b[0;34m'speeches'\u001b[0m\u001b[0;34m,\u001b[0m \u001b[0mbody\u001b[0m \u001b[0;34m=\u001b[0m \u001b[0mterms_json\u001b[0m\u001b[0;34m)\u001b[0m\u001b[0;34m\u001b[0m\u001b[0m\n\u001b[0m",
      "\u001b[0;32m/usr/local/lib/python2.7/site-packages/elasticsearch/client/utils.pyc\u001b[0m in \u001b[0;36m_wrapped\u001b[0;34m(*args, **kwargs)\u001b[0m\n\u001b[1;32m     66\u001b[0m                 \u001b[0;32mif\u001b[0m \u001b[0mp\u001b[0m \u001b[0;32min\u001b[0m \u001b[0mkwargs\u001b[0m\u001b[0;34m:\u001b[0m\u001b[0;34m\u001b[0m\u001b[0m\n\u001b[1;32m     67\u001b[0m                     \u001b[0mparams\u001b[0m\u001b[0;34m[\u001b[0m\u001b[0mp\u001b[0m\u001b[0;34m]\u001b[0m \u001b[0;34m=\u001b[0m \u001b[0mkwargs\u001b[0m\u001b[0;34m.\u001b[0m\u001b[0mpop\u001b[0m\u001b[0;34m(\u001b[0m\u001b[0mp\u001b[0m\u001b[0;34m)\u001b[0m\u001b[0;34m\u001b[0m\u001b[0m\n\u001b[0;32m---> 68\u001b[0;31m             \u001b[0;32mreturn\u001b[0m \u001b[0mfunc\u001b[0m\u001b[0;34m(\u001b[0m\u001b[0;34m*\u001b[0m\u001b[0margs\u001b[0m\u001b[0;34m,\u001b[0m \u001b[0mparams\u001b[0m\u001b[0;34m=\u001b[0m\u001b[0mparams\u001b[0m\u001b[0;34m,\u001b[0m \u001b[0;34m**\u001b[0m\u001b[0mkwargs\u001b[0m\u001b[0;34m)\u001b[0m\u001b[0;34m\u001b[0m\u001b[0m\n\u001b[0m\u001b[1;32m     69\u001b[0m         \u001b[0;32mreturn\u001b[0m \u001b[0m_wrapped\u001b[0m\u001b[0;34m\u001b[0m\u001b[0m\n\u001b[1;32m     70\u001b[0m     \u001b[0;32mreturn\u001b[0m \u001b[0m_wrapper\u001b[0m\u001b[0;34m\u001b[0m\u001b[0m\n",
      "\u001b[0;31mTypeError\u001b[0m: termvector() takes at least 4 arguments (5 given)"
     ]
    }
   ],
   "source": [
    "terms_json = '{\\\n",
    "  \"fields\" : [\"transcript\", \"some_field_without_term_vectors\"],\\\n",
    "  \"offsets\" : true,\\\n",
    "  \"positions\" : true,\\\n",
    "  \"term_statistics\" : true,\\\n",
    "  \"field_statistics\" : true\\\n",
    "}'\n",
    "es.termvector(index='president', doc_type='speeches', body = terms_json)\n"
   ]
  },
  {
   "cell_type": "code",
   "execution_count": 66,
   "metadata": {
    "collapsed": false
   },
   "outputs": [
    {
     "name": "stdout",
     "output_type": "stream",
     "text": [
      "<Response: [<Result(president/speeches/clinton_speech-4597): {u'title': u'Remarks at the Democratic National Convention '...}>, <Result(president/speeches/clinton_speech-5494): {u'title': u'State of the Union Address ', u'pres_id': u'cli...}>, <Result(president/speeches/clinton_speech-4566): {u'title': u'Address on Somalia ', u'pres_id': u'clinton', u...}>, <Result(president/speeches/clinton_speech-3436): {u'title': u'Remarks to the Convocation of the Church of God...}>, <Result(president/speeches/gwbush_speech-4542): {u'title': u'State of the Union Address ', u'pres_id': u'gwb...}>, <Result(president/speeches/clinton_speech-3929): {u'title': u'Address on Bosnia ', u'pres_id': u'clinton', u'...}>, <Result(president/speeches/gwbush_speech-3645): {u'title': u'First Inaugural Address ', u'pres_id': u'gwbush...}>, <Result(president/speeches/gwbush_speech-3986): {u'title': u'Remarks on Signing the Economic Growth and Tax ...}>, <Result(president/speeches/clinton_speech-3443): {u'title': u'Second Inaugural ', u'pres_id': u'clinton', u'l...}>, <Result(president/speeches/clinton_speech-4561): {u'title': u'Press Conference on \"Gays in the Military\" ', u...}>]>\n"
     ]
    }
   ],
   "source": [
    "s = Search(using=es, index=\"president\",doc_type=\"speeches\")\n",
    "    \n",
    "s.aggs.bucket('president', 'terms', field='pres_id') \n",
    "\n",
    "response = s.execute()\n",
    "\n",
    "print response\n",
    "#for hit in response['hits']['hits']:\n",
    "#    print(hit['_score'], hit['_source']['pres_id'])"
   ]
  },
  {
   "cell_type": "code",
   "execution_count": null,
   "metadata": {
    "collapsed": true
   },
   "outputs": [],
   "source": []
  }
 ],
 "metadata": {
  "kernelspec": {
   "display_name": "Python 2",
   "language": "python",
   "name": "python2"
  },
  "language_info": {
   "codemirror_mode": {
    "name": "ipython",
    "version": 2
   },
   "file_extension": ".py",
   "mimetype": "text/x-python",
   "name": "python",
   "nbconvert_exporter": "python",
   "pygments_lexer": "ipython2",
   "version": "2.7.9"
  }
 },
 "nbformat": 4,
 "nbformat_minor": 0
}
