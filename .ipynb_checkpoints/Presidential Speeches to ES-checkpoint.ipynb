{
 "cells": [
  {
   "cell_type": "code",
   "execution_count": 1,
   "metadata": {
    "collapsed": false
   },
   "outputs": [],
   "source": [
    "import bs4\n",
    "import json\n",
    "import requests\n",
    "from elasticsearch import Elasticsearch\n",
    "from elasticsearch_dsl import Search, Q\n",
    "es = Elasticsearch([{'host': 'localhost', 'port': 9200}])"
   ]
  },
  {
   "cell_type": "code",
   "execution_count": 3,
   "metadata": {
    "collapsed": true
   },
   "outputs": [],
   "source": [
    "def getTrans(link):\n",
    "    page = requests.get(link)\n",
    "    soup = bs4.BeautifulSoup(page.text)\n",
    "    return soup.find('div',{'id':'transcript'}).findAll(text = True)\n",
    "    "
   ]
  },
  {
   "cell_type": "code",
   "execution_count": 4,
   "metadata": {
    "collapsed": true
   },
   "outputs": [],
   "source": [
    "def findnth(haystack, needle, n):\n",
    "    parts= haystack.split(needle, n+1)\n",
    "    if len(parts)<=n+1:\n",
    "        return -1\n",
    "    return len(haystack)-len(parts[-1])-len(needle)"
   ]
  },
  {
   "cell_type": "code",
   "execution_count": 5,
   "metadata": {
    "collapsed": false
   },
   "outputs": [],
   "source": [
    "def createJSON (link, text):\n",
    "    lnk = 'http://millercenter.org' + link\n",
    "    pres_id = link[findnth(link,'/',1)+1 : findnth(link,'/',2)]\n",
    "    speech_id = link[findnth(link,'/',3)+1 : len(link)]\n",
    "    ps = {}\n",
    "    ps['transcript'] = getTrans(lnk)\n",
    "    ps['link'] = lnk\n",
    "    ps['title'] = text[0:text.find(\"(\")]\n",
    "    ps['pres_id'] = pres_id\n",
    "    ps['es_id'] = pres_id +'_'+ speech_id\n",
    "    ps['date'] = text[text.find(\"(\")+1:text.find(\")\")]\n",
    "    return ps\n"
   ]
  },
  {
   "cell_type": "code",
   "execution_count": null,
   "metadata": {
    "collapsed": false
   },
   "outputs": [],
   "source": [
    "page = requests.get('http://millercenter.org/president/speeches')\n",
    "soup = bs4.BeautifulSoup(page.text)\n",
    "links = soup.select('div.title a[href^=/president]')\n",
    "#print links\n",
    "for link in links:\n",
    "    ps = createJSON(link.attrs['href'],link.text)\n",
    "    if ps['pres_id'] == 'obama':\n",
    "        es.index(index='obama', doc_type='speeches', id=ps['es_id'], body = ps)"
   ]
  },
  {
   "cell_type": "code",
   "execution_count": 3,
   "metadata": {
    "collapsed": false
   },
   "outputs": [
    {
     "name": "stdout",
     "output_type": "stream",
     "text": [
      "{\n",
      "  \"count\": 7, \n",
      "  \"_shards\": {\n",
      "    \"successful\": 5, \n",
      "    \"failed\": 0, \n",
      "    \"total\": 5\n",
      "  }\n",
      "}\n"
     ]
    }
   ],
   "source": [
    "res = es.count(index='obama', doc_type='speeches')\n",
    "print(json.dumps(res,indent = 2))"
   ]
  },
  {
   "cell_type": "code",
   "execution_count": null,
   "metadata": {
    "collapsed": true
   },
   "outputs": [],
   "source": []
  }
 ],
 "metadata": {
  "kernelspec": {
   "display_name": "Python 2",
   "language": "python",
   "name": "python2"
  },
  "language_info": {
   "codemirror_mode": {
    "name": "ipython",
    "version": 2
   },
   "file_extension": ".py",
   "mimetype": "text/x-python",
   "name": "python",
   "nbconvert_exporter": "python",
   "pygments_lexer": "ipython2",
   "version": "2.7.9"
  }
 },
 "nbformat": 4,
 "nbformat_minor": 0
}
