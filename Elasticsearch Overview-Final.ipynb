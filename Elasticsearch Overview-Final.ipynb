{
 "cells": [
  {
   "cell_type": "markdown",
   "metadata": {
    "slideshow": {
     "slide_type": "slide"
    }
   },
   "source": [
    "# Elasticsearch"
   ]
  },
  {
   "cell_type": "markdown",
   "metadata": {
    "slideshow": {
     "slide_type": "fragment"
    }
   },
   "source": [
    "###How many have heard of Elasticsearch?"
   ]
  },
  {
   "cell_type": "markdown",
   "metadata": {
    "slideshow": {
     "slide_type": "fragment"
    }
   },
   "source": [
    "#####IPython Notebook"
   ]
  },
  {
   "cell_type": "markdown",
   "metadata": {
    "slideshow": {
     "slide_type": "fragment"
    }
   },
   "source": [
    "###How many are using Elasticsearch?"
   ]
  },
  {
   "cell_type": "markdown",
   "metadata": {
    "slideshow": {
     "slide_type": "fragment"
    }
   },
   "source": [
    "        Data Store\n",
    "        JSON\n",
    "        REST\n",
    "        HTTP\n",
    "        Realtime\n",
    "        Lucene\n",
    "        Distributed\n",
    "    That is really good for searching"
   ]
  },
  {
   "cell_type": "markdown",
   "metadata": {
    "slideshow": {
     "slide_type": "slide"
    }
   },
   "source": [
    "###Who is using Elasticesearch"
   ]
  },
  {
   "cell_type": "markdown",
   "metadata": {
    "slideshow": {
     "slide_type": "slide"
    }
   },
   "source": [
    "## ELK Stack"
   ]
  },
  {
   "cell_type": "code",
   "execution_count": 9,
   "metadata": {
    "collapsed": false
   },
   "outputs": [
    {
     "data": {
      "text/html": [
       "<iframe src=\"Global Customer Base.pdf\" width=\"1000\" height=\"720\"></iframe>"
      ],
      "text/plain": [
       "<IPython.core.display.HTML object>"
      ]
     },
     "execution_count": 9,
     "metadata": {},
     "output_type": "execute_result"
    }
   ],
   "source": [
    "from IPython.display import HTML\n",
    "url = 'Global Customer Base.pdf'\n",
    "HTML('<iframe src=\"%s\" width=\"1000\" height=\"720\"></iframe>' % url)"
   ]
  },
  {
   "cell_type": "code",
   "execution_count": 8,
   "metadata": {
    "collapsed": false,
    "slideshow": {
     "slide_type": "fragment"
    }
   },
   "outputs": [
    {
     "data": {
      "text/html": [
       "<iframe src=\"Introducing the Elastic Product Portfolio.pdf\" width=\"1000\" height=\"720\"></iframe>"
      ],
      "text/plain": [
       "<IPython.core.display.HTML object>"
      ]
     },
     "execution_count": 8,
     "metadata": {},
     "output_type": "execute_result"
    }
   ],
   "source": [
    "url = 'Introducing the Elastic Product Portfolio.pdf'\n",
    "HTML('<iframe src=\"%s\" width=\"1000\" height=\"720\"></iframe>' % url)"
   ]
  },
  {
   "cell_type": "markdown",
   "metadata": {
    "slideshow": {
     "slide_type": "slide"
    }
   },
   "source": [
    "##At the heart of Elasticsearch is the Index"
   ]
  },
  {
   "cell_type": "markdown",
   "metadata": {
    "slideshow": {
     "slide_type": "fragment"
    }
   },
   "source": [
    "###Index (noun)"
   ]
  },
  {
   "cell_type": "markdown",
   "metadata": {
    "slideshow": {
     "slide_type": "fragment"
    }
   },
   "source": [
    "####Relational DB\n",
    "Database => Tables => Rows => Columns"
   ]
  },
  {
   "cell_type": "markdown",
   "metadata": {
    "slideshow": {
     "slide_type": "fragment"
    }
   },
   "source": [
    "####Elasticsearch\n",
    "Indices => Types => Documents => Fields "
   ]
  },
  {
   "cell_type": "markdown",
   "metadata": {
    "slideshow": {
     "slide_type": "fragment"
    }
   },
   "source": [
    "###Index (verb)\n",
    "    To index a document in Elasticsearch is to store it in an index for the purpose of searching/retrieval"
   ]
  },
  {
   "cell_type": "markdown",
   "metadata": {
    "slideshow": {
     "slide_type": "slide"
    }
   },
   "source": [
    "### You may hear terms like an Inverted Index"
   ]
  },
  {
   "cell_type": "markdown",
   "metadata": {
    "slideshow": {
     "slide_type": "fragment"
    }
   },
   "source": [
    "###Forward Index"
   ]
  },
  {
   "cell_type": "code",
   "execution_count": 18,
   "metadata": {
    "collapsed": false,
    "slideshow": {
     "slide_type": "fragment"
    }
   },
   "outputs": [
    {
     "data": {
      "text/html": [
       "<div style=\"max-height:1000px;max-width:1500px;overflow:auto;\">\n",
       "<table border=\"1\" class=\"dataframe\">\n",
       "  <thead>\n",
       "    <tr style=\"text-align: right;\">\n",
       "      <th></th>\n",
       "      <th>Document</th>\n",
       "      <th>Words</th>\n",
       "    </tr>\n",
       "  </thead>\n",
       "  <tbody>\n",
       "    <tr>\n",
       "      <th>0</th>\n",
       "      <td> Document 1</td>\n",
       "      <td>                 the,cow,says,moo</td>\n",
       "    </tr>\n",
       "    <tr>\n",
       "      <th>1</th>\n",
       "      <td> Document 2</td>\n",
       "      <td>              the,cat,and,the,hat</td>\n",
       "    </tr>\n",
       "    <tr>\n",
       "      <th>2</th>\n",
       "      <td> Document 3</td>\n",
       "      <td> the,dish,ran,away,with,the,spoon</td>\n",
       "    </tr>\n",
       "    <tr>\n",
       "      <th>3</th>\n",
       "      <td> Document 4</td>\n",
       "      <td>     the,cow,jumped,over,the,moon</td>\n",
       "    </tr>\n",
       "  </tbody>\n",
       "</table>\n",
       "</div>"
      ],
      "text/plain": [
       "     Document                             Words\n",
       "0  Document 1                  the,cow,says,moo\n",
       "1  Document 2               the,cat,and,the,hat\n",
       "2  Document 3  the,dish,ran,away,with,the,spoon\n",
       "3  Document 4      the,cow,jumped,over,the,moon"
      ]
     },
     "execution_count": 18,
     "metadata": {},
     "output_type": "execute_result"
    }
   ],
   "source": [
    "import pandas\n",
    "df = pandas.read_csv('forwardIndex.csv')\n",
    "df"
   ]
  },
  {
   "cell_type": "markdown",
   "metadata": {
    "slideshow": {
     "slide_type": "slide"
    }
   },
   "source": [
    "###Inverted Index"
   ]
  },
  {
   "cell_type": "code",
   "execution_count": 19,
   "metadata": {
    "collapsed": false,
    "scrolled": true,
    "slideshow": {
     "slide_type": "fragment"
    }
   },
   "outputs": [
    {
     "data": {
      "text/html": [
       "<div style=\"max-height:1000px;max-width:1500px;overflow:auto;\">\n",
       "<table border=\"1\" class=\"dataframe\">\n",
       "  <thead>\n",
       "    <tr style=\"text-align: right;\">\n",
       "      <th></th>\n",
       "      <th>Word</th>\n",
       "      <th>Documents</th>\n",
       "    </tr>\n",
       "  </thead>\n",
       "  <tbody>\n",
       "    <tr>\n",
       "      <th>0</th>\n",
       "      <td>  the</td>\n",
       "      <td> Document 1, Document 2, Document 3, Document 4</td>\n",
       "    </tr>\n",
       "    <tr>\n",
       "      <th>1</th>\n",
       "      <td>  cow</td>\n",
       "      <td>                         Document 1, Document 4</td>\n",
       "    </tr>\n",
       "    <tr>\n",
       "      <th>2</th>\n",
       "      <td> says</td>\n",
       "      <td>                                     Document 1</td>\n",
       "    </tr>\n",
       "    <tr>\n",
       "      <th>3</th>\n",
       "      <td>  moo</td>\n",
       "      <td>                                     Document 1</td>\n",
       "    </tr>\n",
       "  </tbody>\n",
       "</table>\n",
       "</div>"
      ],
      "text/plain": [
       "   Word                                       Documents\n",
       "0   the  Document 1, Document 2, Document 3, Document 4\n",
       "1   cow                          Document 1, Document 4\n",
       "2  says                                      Document 1\n",
       "3   moo                                      Document 1"
      ]
     },
     "execution_count": 19,
     "metadata": {},
     "output_type": "execute_result"
    }
   ],
   "source": [
    "Idf = pandas.read_csv('invertedIndex.csv')\n",
    "Idf"
   ]
  },
  {
   "cell_type": "markdown",
   "metadata": {
    "slideshow": {
     "slide_type": "slide"
    }
   },
   "source": [
    "##Lets look at a running instance of ES"
   ]
  },
  {
   "cell_type": "code",
   "execution_count": 618,
   "metadata": {
    "collapsed": false,
    "slideshow": {
     "slide_type": "skip"
    }
   },
   "outputs": [
    {
     "data": {
      "text/plain": [
       "{u'acknowledged': True}"
      ]
     },
     "execution_count": 618,
     "metadata": {},
     "output_type": "execute_result"
    }
   ],
   "source": [
    "es.indices.delete(index='sports', ignore=[400, 404])"
   ]
  },
  {
   "cell_type": "code",
   "execution_count": 658,
   "metadata": {
    "collapsed": false,
    "scrolled": false,
    "slideshow": {
     "slide_type": "fragment"
    }
   },
   "outputs": [
    {
     "name": "stdout",
     "output_type": "stream",
     "text": [
      "health status index        pri rep docs.count docs.deleted store.size pri.store.size \n",
      "yellow open   lincoln        5   1      81597            0      3.3mb          3.3mb \n",
      "yellow open   obama          5   1      35135            0      1.5mb          1.5mb \n",
      "yellow open   .kibana        1   1          3            0        8kb            8kb \n",
      "yellow open   washington     5   1      31479            0      1.3mb          1.3mb \n",
      "yellow open   harrison       5   1       8437            0    622.2kb        622.2kb \n",
      "yellow open   sports         5   1         22            0     20.4kb         20.4kb \n",
      "yellow open   presidential   5   1        894            5       26mb           26mb \n",
      "yellow open   pres_pos       5   1     156648            0      6.4mb          6.4mb \n",
      "\n"
     ]
    }
   ],
   "source": [
    "import requests\n",
    "indexes = requests.get('http://localhost:9200/_cat/indices?v')\n",
    "print(indexes.text)"
   ]
  },
  {
   "cell_type": "markdown",
   "metadata": {
    "slideshow": {
     "slide_type": "slide"
    }
   },
   "source": [
    "##How do we index data?"
   ]
  },
  {
   "cell_type": "code",
   "execution_count": 592,
   "metadata": {
    "collapsed": true,
    "slideshow": {
     "slide_type": "fragment"
    }
   },
   "outputs": [],
   "source": [
    "from elasticsearch import Elasticsearch\n",
    "es = Elasticsearch()"
   ]
  },
  {
   "cell_type": "code",
   "execution_count": 460,
   "metadata": {
    "collapsed": false,
    "slideshow": {
     "slide_type": "skip"
    }
   },
   "outputs": [
    {
     "data": {
      "text/plain": [
       "{u'acknowledged': True}"
      ]
     },
     "execution_count": 460,
     "metadata": {},
     "output_type": "execute_result"
    }
   ],
   "source": [
    "es.indices.delete(index='obama', ignore=[400, 404])"
   ]
  },
  {
   "cell_type": "code",
   "execution_count": 664,
   "metadata": {
    "collapsed": false,
    "scrolled": true,
    "slideshow": {
     "slide_type": "fragment"
    }
   },
   "outputs": [
    {
     "name": "stdout",
     "output_type": "stream",
     "text": [
      "True\n"
     ]
    }
   ],
   "source": [
    "\n",
    "json_data = {\n",
    "    \"first_name\" : \"John\",\n",
    "    \"last_name\" :  \"Smith\",\n",
    "    \"age\" :        25,\n",
    "    \"about\" :      \"I love to go rock climbing\",\n",
    "    \"interests\": [ \"sports\", \"music\" ]\n",
    "}\n",
    "\n",
    "res = es.index(index=\"my_corp\", doc_type='employee', id=1, body=json_data)\n",
    "print(res['created'])"
   ]
  },
  {
   "cell_type": "code",
   "execution_count": 623,
   "metadata": {
    "collapsed": false,
    "slideshow": {
     "slide_type": "slide"
    }
   },
   "outputs": [
    {
     "name": "stdout",
     "output_type": "stream",
     "text": [
      "health status index        pri rep docs.count docs.deleted store.size pri.store.size \n",
      "yellow open   lincoln        5   1      81597            0      3.3mb          3.3mb \n",
      "yellow open   obama          5   1      35135            0      1.5mb          1.5mb \n",
      "yellow open   .kibana        1   1          3            0        8kb            8kb \n",
      "yellow open   washington     5   1      31479            0      1.3mb          1.3mb \n",
      "yellow open   harrison       5   1       8437            0    622.2kb        622.2kb \n",
      "yellow open   sports         5   1         22            0     20.4kb         20.4kb \n",
      "yellow open   presidential   5   1        894            5       26mb           26mb \n",
      "yellow open   my_corp        5   1          1            0      3.8kb          3.8kb \n",
      "yellow open   pres_pos       5   1     156648            0      6.4mb          6.4mb \n",
      "\n"
     ]
    }
   ],
   "source": [
    "indexes = requests.get('http://localhost:9200/_cat/indices?v')\n",
    "print(indexes.text)"
   ]
  },
  {
   "cell_type": "code",
   "execution_count": 665,
   "metadata": {
    "collapsed": false,
    "slideshow": {
     "slide_type": "slide"
    }
   },
   "outputs": [
    {
     "name": "stdout",
     "output_type": "stream",
     "text": [
      "True\n",
      "True\n"
     ]
    }
   ],
   "source": [
    "\n",
    "json_data01 = {\n",
    "    \"first_name\" :  \"Jane\",\n",
    "    \"last_name\" :   \"Smith\",\n",
    "    \"age\" :         32,\n",
    "    \"about\" :       \"I like to collect rock albums\",\n",
    "    \"interests\":  [ \"music\" ]\n",
    "}\n",
    "res = es.index(index=\"my_corp\", doc_type='employee', id=2, body=json_data01)\n",
    "print(res['created'])\n",
    "\n",
    "json_data02 = {\n",
    "    \"first_name\" :  \"Douglas\",\n",
    "    \"last_name\" :   \"Fir\",\n",
    "    \"age\" :         35,\n",
    "    \"about\":        \"I like to build cabinets\",\n",
    "    \"interests\":  [ \"forestry\" ]\n",
    "}\n",
    "res = es.index(index=\"my_corp\", doc_type='employee', id=3, body=json_data02)\n",
    "print(res['created'])"
   ]
  },
  {
   "cell_type": "code",
   "execution_count": 625,
   "metadata": {
    "collapsed": false,
    "slideshow": {
     "slide_type": "slide"
    }
   },
   "outputs": [
    {
     "name": "stdout",
     "output_type": "stream",
     "text": [
      "health status index        pri rep docs.count docs.deleted store.size pri.store.size \n",
      "yellow open   lincoln        5   1      81597            0      3.3mb          3.3mb \n",
      "yellow open   obama          5   1      35135            0      1.5mb          1.5mb \n",
      "yellow open   .kibana        1   1          3            0        8kb            8kb \n",
      "yellow open   washington     5   1      31479            0      1.3mb          1.3mb \n",
      "yellow open   harrison       5   1       8437            0    622.2kb        622.2kb \n",
      "yellow open   sports         5   1         22            0     20.4kb         20.4kb \n",
      "yellow open   presidential   5   1        894            5       26mb           26mb \n",
      "yellow open   my_corp        5   1          3            0     10.3kb         10.3kb \n",
      "yellow open   pres_pos       5   1     156648            0      6.4mb          6.4mb \n",
      "\n"
     ]
    }
   ],
   "source": [
    "indexes = requests.get('http://localhost:9200/_cat/indices?v')\n",
    "print(indexes.text)"
   ]
  },
  {
   "cell_type": "code",
   "execution_count": null,
   "metadata": {
    "collapsed": true,
    "slideshow": {
     "slide_type": "slide"
    }
   },
   "outputs": [],
   "source": [
    "!curl -XPOST \"http://localhost:9200/sports/_bulk\" -d'\n",
    "{\"index\":{\"_index\":\"sports\",\"_type\":\"athlete\"}}\n",
    "{\"name\":\"Michael\", \"birthdate\":\"1989-10-1\", \"sport\":\"Baseball\", \"rating\": [\"5\", \"4\"],  \"location\":\"46.22,-68.45\"}\n",
    "{\"index\":{\"_index\":\"sports\",\"_type\":\"athlete\"}}\n",
    "{\"name\":\"Bob\", \"birthdate\":\"1989-11-2\", \"sport\":\"Baseball\", \"rating\": [\"3\", \"4\"],  \"location\":\"45.21,-68.35\"}\n",
    "{\"index\":{\"_index\":\"sports\",\"_type\":\"athlete\"}}\n",
    "{\"name\":\"Jim\", \"birthdate\":\"1988-10-3\", \"sport\":\"Baseball\", \"rating\": [\"3\", \"2\"],  \"location\":\"45.16,-63.58\" }\n",
    "{\"index\":{\"_index\":\"sports\",\"_type\":\"athlete\"}}\n",
    "{\"name\":\"Joe\", \"birthdate\":\"1992-5-20\", \"sport\":\"Baseball\", \"rating\": [\"4\", \"3\"],  \"location\":\"45.22,-68.53\"}\n",
    "{\"index\":{\"_index\":\"sports\",\"_type\":\"athlete\"}}\n",
    "{\"name\":\"Tim\", \"birthdate\":\"1992-2-28\", \"sport\":\"Baseball\", \"rating\": [\"3\", \"3\"],  \"location\":\"46.22,-68.85\"}\n",
    "{\"index\":{\"_index\":\"sports\",\"_type\":\"athlete\"}}\n",
    "{\"name\":\"Alfred\", \"birthdate\":\"1990-9-9\", \"sport\":\"Baseball\", \"rating\": [\"2\", \"2\"],  \"location\":\"45.12,-68.35\"}\n",
    "{\"index\":{\"_index\":\"sports\",\"_type\":\"athlete\"}}\n",
    "{\"name\":\"Jeff\", \"birthdate\":\"1990-4-1\", \"sport\":\"Baseball\", \"rating\": [\"2\", \"3\"], \"location\":\"46.12,-68.55\"}\n",
    "{\"index\":{\"_index\":\"sports\",\"_type\":\"athlete\"}}\n",
    "{\"name\":\"Will\", \"birthdate\":\"1988-3-1\", \"sport\":\"Baseball\", \"rating\": [\"4\", \"4\"], \"location\":\"46.25,-68.55\" }\n",
    "{\"index\":{\"_index\":\"sports\",\"_type\":\"athlete\"}}\n",
    "{\"name\":\"Mick\", \"birthdate\":\"1989-10-1\", \"sport\":\"Baseball\", \"rating\": [\"3\", \"4\"],  \"location\":\"46.22,-68.45\"}\n",
    "{\"index\":{\"_index\":\"sports\",\"_type\":\"athlete\"}}\n",
    "{\"name\":\"Pong\", \"birthdate\":\"1989-11-2\", \"sport\":\"Baseball\", \"rating\": [\"1\", \"3\"],  \"location\":\"45.21,-68.35\"}\n",
    "{\"index\":{\"_index\":\"sports\",\"_type\":\"athlete\"}}\n",
    "{\"name\":\"Ray\", \"birthdate\":\"1988-10-3\", \"sport\":\"Baseball\", \"rating\": [\"2\", \"2\"],  \"location\":\"45.16,-63.58\" }\n",
    "{\"index\":{\"_index\":\"sports\",\"_type\":\"athlete\"}}\n",
    "{\"name\":\"Ping\", \"birthdate\":\"1992-5-20\", \"sport\":\"Baseball\", \"rating\": [\"4\", \"3\"],  \"location\":\"45.22,-68.53\"}\n",
    "{\"index\":{\"_index\":\"sports\",\"_type\":\"athlete\"}}\n",
    "{\"name\":\"Duke\", \"birthdate\":\"1992-2-28\", \"sport\":\"Baseball\", \"rating\": [\"5\", \"2\"],  \"location\":\"46.22,-68.85\"}\n",
    "{\"index\":{\"_index\":\"sports\",\"_type\":\"athlete\"}}\n",
    "{\"name\":\"Hal\", \"birthdate\":\"1990-9-9\", \"sport\":\"Baseball\", \"rating\": [\"4\", \"2\"],  \"location\":\"45.12,-68.35\"}\n",
    "{\"index\":{\"_index\":\"sports\",\"_type\":\"athlete\"}}\n",
    "{\"name\":\"Charge\", \"birthdate\":\"1990-4-1\", \"sport\":\"Baseball\", \"rating\": [\"3\", \"2\"], \"location\":\"46.12,-68.55\"}\n",
    "{\"index\":{\"_index\":\"sports\",\"_type\":\"athlete\"}}\n",
    "{\"name\":\"Barry\", \"birthdate\":\"1988-3-1\", \"sport\":\"Baseball\", \"rating\": [\"5\", \"2\"], \"location\":\"46.25,-68.55\" }\n",
    "{\"index\":{\"_index\":\"sports\",\"_type\":\"athlete\"}}\n",
    "{\"name\":\"Bank\", \"birthdate\":\"1988-3-1\", \"sport\":\"Golf\", \"rating\": [\"6\", \"4\"], \"location\":\"46.25,-68.55\" }\n",
    "{\"index\":{\"_index\":\"sports\",\"_type\":\"athlete\"}}\n",
    "{\"name\":\"Bingo\", \"birthdate\":\"1988-3-1\", \"sport\":\"Golf\", \"rating\": [\"10\", \"7\"], \"location\":\"46.25,-68.55\" }\n",
    "{\"index\":{\"_index\":\"sports\",\"_type\":\"athlete\"}}\n",
    "{\"name\":\"James\", \"birthdate\":\"1988-3-1\", \"sport\":\"Basketball\", \"rating\": [\"10\", \"8\"], \"location\":\"46.25,-68.55\" }\n",
    "{\"index\":{\"_index\":\"sports\",\"_type\":\"athlete\"}}\n",
    "{\"name\":\"Wayne\", \"birthdate\":\"1988-3-1\", \"sport\":\"Hockey\", \"rating\": [\"10\", \"10\"], \"location\":\"46.25,-68.55\" }\n",
    "{\"index\":{\"_index\":\"sports\",\"_type\":\"athlete\"}}\n",
    "{\"name\":\"Brady\", \"birthdate\":\"1988-3-1\", \"sport\":\"Football\", \"rating\": [\"10\", \"10\"], \"location\":\"46.25,-68.55\" }\n",
    "{\"index\":{\"_index\":\"sports\",\"_type\":\"athlete\"}}\n",
    "{\"name\":\"Lewis\", \"birthdate\":\"1988-3-1\", \"sport\":\"Football\", \"rating\": [\"10\", \"10\"], \"location\":\"46.25,-68.55\" }'"
   ]
  },
  {
   "cell_type": "markdown",
   "metadata": {
    "slideshow": {
     "slide_type": "slide"
    }
   },
   "source": [
    "###We can return data based on an ID"
   ]
  },
  {
   "cell_type": "code",
   "execution_count": 597,
   "metadata": {
    "collapsed": false,
    "scrolled": true,
    "slideshow": {
     "slide_type": "-"
    }
   },
   "outputs": [
    {
     "name": "stdout",
     "output_type": "stream",
     "text": [
      "{\n",
      "    \"_type\": \"employee\", \n",
      "    \"_source\": {\n",
      "        \"interests\": [\n",
      "            \"sports\", \n",
      "            \"music\"\n",
      "        ], \n",
      "        \"age\": 25, \n",
      "        \"about\": \"I love to go rock climbing\", \n",
      "        \"last_name\": \"Smith\", \n",
      "        \"first_name\": \"John\"\n",
      "    }, \n",
      "    \"_index\": \"my_corp\", \n",
      "    \"_version\": 1, \n",
      "    \"found\": true, \n",
      "    \"_id\": \"1\"\n",
      "}\n"
     ]
    }
   ],
   "source": [
    "import json\n",
    "res = es.get(index=\"my_corp\", doc_type='employee', id=1)\n",
    "print(json.dumps(res, indent = 4))"
   ]
  },
  {
   "cell_type": "code",
   "execution_count": 599,
   "metadata": {
    "collapsed": false,
    "slideshow": {
     "slide_type": "fragment"
    }
   },
   "outputs": [
    {
     "name": "stdout",
     "output_type": "stream",
     "text": [
      "25\n"
     ]
    }
   ],
   "source": [
    "#print(json.dumps(res, indent = 2))\n",
    "print(res[\"_source\"][\"age\"])"
   ]
  },
  {
   "cell_type": "markdown",
   "metadata": {
    "slideshow": {
     "slide_type": "notes"
    }
   },
   "source": [
    "The above fields with _ underscores are metadata.  _source field is\n",
    "Default behavor is to store all the json document in this _source field. ES compresses this field on to disk."
   ]
  },
  {
   "cell_type": "code",
   "execution_count": 601,
   "metadata": {
    "collapsed": false,
    "scrolled": false,
    "slideshow": {
     "slide_type": "slide"
    }
   },
   "outputs": [
    {
     "name": "stdout",
     "output_type": "stream",
     "text": [
      "{\n",
      "  \"took\" : 1,\n",
      "  \"timed_out\" : false,\n",
      "  \"_shards\" : {\n",
      "    \"total\" : 5,\n",
      "    \"successful\" : 5,\n",
      "    \"failed\" : 0\n",
      "  },\n",
      "  \"hits\" : {\n",
      "    \"total\" : 3,\n",
      "    \"max_score\" : 1.0,\n",
      "    \"hits\" : [ {\n",
      "      \"_index\" : \"my_corp\",\n",
      "      \"_type\" : \"employee\",\n",
      "      \"_id\" : \"1\",\n",
      "      \"_score\" : 1.0,\n",
      "      \"_source\":{\"interests\": [\"sports\", \"music\"], \"about\": \"I love to go rock climbing\", \"first_name\": \"John\", \"last_name\": \"Smith\", \"age\": 25}\n",
      "    }, {\n",
      "      \"_index\" : \"my_corp\",\n",
      "      \"_type\" : \"employee\",\n",
      "      \"_id\" : \"2\",\n",
      "      \"_score\" : 1.0,\n",
      "      \"_source\":{\"interests\": [\"music\"], \"about\": \"I like to collect rock albums\", \"first_name\": \"Jane\", \"last_name\": \"Smith\", \"age\": 32}\n",
      "    }, {\n",
      "      \"_index\" : \"my_corp\",\n",
      "      \"_type\" : \"employee\",\n",
      "      \"_id\" : \"3\",\n",
      "      \"_score\" : 1.0,\n",
      "      \"_source\":{\"interests\": [\"forestry\"], \"about\": \"I like to build cabinets\", \"first_name\": \"Douglas\", \"last_name\": \"Fir\", \"age\": 35}\n",
      "    } ]\n",
      "  }\n",
      "}\n",
      "\n"
     ]
    }
   ],
   "source": [
    "empl = requests.get('http://localhost:9200/my_corp/_search?pretty')\n",
    "print(empl.text)"
   ]
  },
  {
   "cell_type": "code",
   "execution_count": 673,
   "metadata": {
    "collapsed": false,
    "scrolled": true,
    "slideshow": {
     "slide_type": "slide"
    }
   },
   "outputs": [
    {
     "name": "stdout",
     "output_type": "stream",
     "text": [
      "{\n",
      "  \"hits\": [\n",
      "    {\n",
      "      \"_score\": 1.0, \n",
      "      \"_type\": \"employee\", \n",
      "      \"_id\": \"1\", \n",
      "      \"_source\": {\n",
      "        \"interests\": [\n",
      "          \"sports\", \n",
      "          \"music\"\n",
      "        ], \n",
      "        \"age\": 25, \n",
      "        \"about\": \"I love to go rock climbing\", \n",
      "        \"last_name\": \"Smith\", \n",
      "        \"first_name\": \"John\"\n",
      "      }, \n",
      "      \"_index\": \"my_corp\"\n",
      "    }, \n",
      "    {\n",
      "      \"_score\": 1.0, \n",
      "      \"_type\": \"employee\", \n",
      "      \"_id\": \"2\", \n",
      "      \"_source\": {\n",
      "        \"interests\": [\n",
      "          \"music\"\n",
      "        ], \n",
      "        \"age\": 32, \n",
      "        \"about\": \"I like to collect rock albums\", \n",
      "        \"last_name\": \"Smith\", \n",
      "        \"first_name\": \"Jane\"\n",
      "      }, \n",
      "      \"_index\": \"my_corp\"\n",
      "    }, \n",
      "    {\n",
      "      \"_score\": 1.0, \n",
      "      \"_type\": \"employee\", \n",
      "      \"_id\": \"3\", \n",
      "      \"_source\": {\n",
      "        \"interests\": [\n",
      "          \"forestry\"\n",
      "        ], \n",
      "        \"age\": 35, \n",
      "        \"about\": \"I like to build cabinets\", \n",
      "        \"last_name\": \"Fir\", \n",
      "        \"first_name\": \"Douglas\"\n",
      "      }, \n",
      "      \"_index\": \"my_corp\"\n",
      "    }\n",
      "  ], \n",
      "  \"total\": 3, \n",
      "  \"max_score\": 1.0\n",
      "}\n"
     ]
    }
   ],
   "source": [
    "json_data = {\n",
    "    \"query\" :{\n",
    "        \"match_all\" : {}\n",
    "    }\n",
    "}\n",
    "\n",
    "res = es.search(index=\"my_corp\", doc_type='employee', body=json_data)\n",
    "print(json.dumps(res[\"hits\"], indent=2))"
   ]
  },
  {
   "cell_type": "code",
   "execution_count": 670,
   "metadata": {
    "collapsed": false,
    "slideshow": {
     "slide_type": "slide"
    }
   },
   "outputs": [
    {
     "name": "stdout",
     "output_type": "stream",
     "text": [
      "25\n",
      "32\n",
      "35\n"
     ]
    }
   ],
   "source": [
    "for hit in res[\"hits\"][\"hits\"]:\n",
    "    #print(json.dumps(hit,indent = 2))\n",
    "    print(json.dumps(hit[\"_source\"][\"age\"],indent = 2))"
   ]
  },
  {
   "cell_type": "markdown",
   "metadata": {
    "slideshow": {
     "slide_type": "slide"
    }
   },
   "source": [
    "##Plugins"
   ]
  },
  {
   "cell_type": "code",
   "execution_count": 33,
   "metadata": {
    "collapsed": false,
    "slideshow": {
     "slide_type": "fragment"
    }
   },
   "outputs": [],
   "source": [
    "! /Users/macbookpro/elasticsearch-1.5.2/bin/plugin --silent --install lmenezes/elasticsearch-kopf"
   ]
  },
  {
   "cell_type": "code",
   "execution_count": 545,
   "metadata": {
    "collapsed": false,
    "scrolled": true,
    "slideshow": {
     "slide_type": "fragment"
    }
   },
   "outputs": [
    {
     "name": "stdout",
     "output_type": "stream",
     "text": [
      "Installed plugins:\r\n",
      "    - kopf\r\n",
      "    - lang-python\r\n"
     ]
    }
   ],
   "source": [
    "! /Users/macbookpro/elasticsearch-1.5.2/bin/plugin  --list"
   ]
  },
  {
   "cell_type": "code",
   "execution_count": 10,
   "metadata": {
    "collapsed": false,
    "slideshow": {
     "slide_type": "slide"
    }
   },
   "outputs": [
    {
     "data": {
      "text/html": [
       "<iframe src=\"http://localhost:9200/_plugin/kopf/\" width=\"950\" height=\"350\"></iframe>"
      ],
      "text/plain": [
       "<IPython.core.display.HTML object>"
      ]
     },
     "execution_count": 10,
     "metadata": {},
     "output_type": "execute_result"
    }
   ],
   "source": [
    "from IPython.display import HTML\n",
    "url = 'http://localhost:9200/_plugin/kopf/'\n",
    "HTML('<iframe src=\"%s\" width=\"950\" height=\"350\"></iframe>' % url)"
   ]
  },
  {
   "cell_type": "markdown",
   "metadata": {
    "slideshow": {
     "slide_type": "slide"
    }
   },
   "source": [
    "## Scraping data off the internet"
   ]
  },
  {
   "cell_type": "code",
   "execution_count": 11,
   "metadata": {
    "collapsed": false,
    "scrolled": true,
    "slideshow": {
     "slide_type": "subslide"
    }
   },
   "outputs": [
    {
     "data": {
      "text/html": [
       "<iframe src=\"http://millercenter.org/president/speeches\" width=\"900\" height=\"350\"></iframe>"
      ],
      "text/plain": [
       "<IPython.core.display.HTML object>"
      ]
     },
     "execution_count": 11,
     "metadata": {},
     "output_type": "execute_result"
    }
   ],
   "source": [
    "from IPython.display import HTML\n",
    "url = 'http://millercenter.org/president/speeches'\n",
    "HTML('<iframe src=\"%s\" width=\"900\" height=\"350\"></iframe>' % url)"
   ]
  },
  {
   "cell_type": "markdown",
   "metadata": {
    "slideshow": {
     "slide_type": "slide"
    }
   },
   "source": [
    "###Histogram of Speeches"
   ]
  },
  {
   "cell_type": "code",
   "execution_count": 676,
   "metadata": {
    "collapsed": false,
    "slideshow": {
     "slide_type": "slide"
    }
   },
   "outputs": [
    {
     "data": {
      "text/plain": [
       "<matplotlib.axes._subplots.AxesSubplot at 0x1260cd990>"
      ]
     },
     "execution_count": 676,
     "metadata": {},
     "output_type": "execute_result"
    },
    {
     "data": {
      "image/png": "[encoded data removed]",
      "text/plain": [
       "<matplotlib.figure.Figure at 0x1264e5b10>"
      ]
     },
     "metadata": {},
     "output_type": "display_data"
    }
   ],
   "source": [
    "from __future__ import print_function, division\n",
    "import seaborn as sns\n",
    "import numpy as np\n",
    "import matplotlib.pyplot as plt\n",
    "import pandas as pd\n",
    "%matplotlib inline\n",
    "\n",
    "from elasticsearch import Elasticsearch\n",
    "es = Elasticsearch([{'host': 'localhost', 'port': 9200}])\n",
    "import json\n",
    "es_json = {\n",
    "    \"aggregations\": {\n",
    "        \"speechCount\": {\n",
    "            \"terms\": {\n",
    "                \"field\": \"pres_id\",\n",
    "                \"size\": 50\n",
    "            }\n",
    "        }\n",
    "    }\n",
    "}\n",
    "\n",
    "rs = es.search(index='presidential',search_type='count',body=es_json)\n",
    "#print(json.dumps(rs[\"aggregations\"][\"significantPresWords\"],indent = 2))\n",
    "rs_count = pd.read_json(json.dumps(rs[\"aggregations\"][\"speechCount\"][\"buckets\"]))\n",
    "rs_count.reset_index\n",
    "sns.set()\n",
    "rs_count.plot(kind='bar',legend=None,title=\"Total Speeches by President\",x='key',y='doc_count',figsize=(18,12))"
   ]
  }
 ],
 "metadata": {
  "celltoolbar": "Slideshow",
  "kernelspec": {
   "display_name": "Python 2",
   "language": "python",
   "name": "python2"
  },
  "language_info": {
   "codemirror_mode": {
    "name": "ipython",
    "version": 2
   },
   "file_extension": ".py",
   "mimetype": "text/x-python",
   "name": "python",
   "nbconvert_exporter": "python",
   "pygments_lexer": "ipython2",
   "version": "2.7.9"
  }
 },
 "nbformat": 4,
 "nbformat_minor": 0
}
